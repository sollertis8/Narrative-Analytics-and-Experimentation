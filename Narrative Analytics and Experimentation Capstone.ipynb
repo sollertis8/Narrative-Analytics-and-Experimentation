{
 "cells": [
  {
   "cell_type": "code",
   "execution_count": 30,
   "metadata": {
    "collapsed": false
   },
   "outputs": [
    {
     "name": "stdout",
     "output_type": "stream",
     "text": [
      "Index(['State ', 'Location', 'All Ages, 2012', 'All Ages, 2014',\n",
      "       'Ages 0-20, 2012', 'Ages 0-20, 2014', 'Ages 21-34, 2012',\n",
      "       'Ages 21-34, 2014', 'Ages 35+, 2012', 'Ages 35+, 2014', 'Male, 2012',\n",
      "       'Male, 2014', 'Female, 2012', 'Female, 2014'],\n",
      "      dtype='object')\n",
      "State           All Ages, 2014\n",
      "Alabama         5.5               1\n",
      "Alaska          2.8               1\n",
      "Arizona         3.0               1\n",
      "Arkansas        4.6               1\n",
      "California      2.2               1\n",
      "Colorado        3.0               1\n",
      "Connecticut     2.7               1\n",
      "Delaware        5.2               1\n",
      "Florida         3.5               1\n",
      "Georgia         2.7               1\n",
      "Hawaii          2.2               1\n",
      "Idaho           3.3               1\n",
      "Illinois        2.4               1\n",
      "Indiana         3.2               1\n",
      "Iowa            3.0               1\n",
      "Kansas          3.6               1\n",
      "Kentucky        3.9               1\n",
      "Louisiana       5.4               1\n",
      "Maine           3.3               1\n",
      "Maryland        2.2               1\n",
      "Massachusetts   1.9               1\n",
      "Michigan        2.2               1\n",
      "Minnesota       1.9               1\n",
      "Mississippi     6.0               1\n",
      "Missouri        3.4               1\n",
      "Montana         7.3               1\n",
      "Nebraska        3.3               1\n",
      "Nevada          3.3               1\n",
      "New Hampshire   2.4               1\n",
      "New Jersey      1.8               1\n",
      "New Mexico      5.7               1\n",
      "New York        1.6               1\n",
      "North Carolina  3.8               1\n",
      "North Dakota    7.2               1\n",
      "Ohio            2.7               1\n",
      "Oklahoma        4.0               1\n",
      "Oregon          2.5               1\n",
      "Pennsylvania    2.7               1\n",
      "South Carolina  5.8               1\n",
      "South Dakota    5.6               1\n",
      "Tennessee       4.1               1\n",
      "Texas           5.4               1\n",
      "United States   3.1               1\n",
      "Utah            2.0               1\n",
      "Virginia        2.5               1\n",
      "Washington      1.9               1\n",
      "West Virginia   4.7               1\n",
      "Wisconsin       2.9               1\n",
      "Wyoming         8.2               1\n",
      "Name: All Ages, 2014, dtype: int64\n"
     ]
    }
   ],
   "source": [
    "import pandas as pd\n",
    "import matplotlib.pyplot as plt\n",
    "import seaborn as sns\n",
    "import numpy as np\n",
    "%matplotlib inline\n",
    "\n",
    "# brfss = pd.read_csv('Behavioral_Risk_Factor_Surveillance_System.csv')\n",
    "\n",
    "# obese = brfss.groupby(['LocationDesc','Data_Value'])['Data_Value'].count()\n",
    "\n",
    "# print(obese)\n",
    "\n",
    "ipdr = pd.read_csv('Impaired_Driving_Death_Rate.csv')\n",
    "\n",
    "# ipdr = ipdr.dropna(axis='columns', inplace=False)\n",
    "us_ipdr = ipdr.groupby(['State ', 'All Ages, 2014'])['All Ages, 2014'].count()\n",
    "print(ipdr.keys())\n",
    "\n",
    "print(us_ipdr)"
   ]
  },
  {
   "cell_type": "markdown",
   "metadata": {},
   "source": [
    "## Problem"
   ]
  },
  {
   "cell_type": "markdown",
   "metadata": {},
   "source": [
    "3.1 percent of Americans die as a result of impaired driving.  In the subgroup of Georgia, 2.7 percent of individuals die as a result of impaired driving. How can we decrease the percentage of car accidents that cause deaths as a result of impaired driving?"
   ]
  },
  {
   "cell_type": "markdown",
   "metadata": {},
   "source": [
    "## Potential Solution"
   ]
  },
  {
   "cell_type": "markdown",
   "metadata": {},
   "source": [
    "I propose that an autonomous taxi service for the inebriated individuals could reduce accidents associated with impaired driving.   "
   ]
  },
  {
   "cell_type": "markdown",
   "metadata": {},
   "source": [
    "## Test Design"
   ]
  },
  {
   "cell_type": "markdown",
   "metadata": {},
   "source": [
    "We will take a sample of 1,000 individuals in Georgia who admit to driving after drinking and divide them into 2 equal groups of A and B, respectively.  Group A will get free rides when they are inebriated in an autonomous vehicle for 1 year. We will monitor group B's driving habits in their normal vehicles for one year.  The vehicles of group A and B will be equipped with a device that monitors their driving habits and if any accidents have occurred.  If accidents among group A participants are less that accidents among group B participants, we will determine that autonomous vehicles reduce accidents among the inebriated and will subsequently reduce deaths     "
   ]
  }
 ],
 "metadata": {
  "anaconda-cloud": {},
  "kernelspec": {
   "display_name": "Python [conda root]",
   "language": "python",
   "name": "conda-root-py"
  },
  "language_info": {
   "codemirror_mode": {
    "name": "ipython",
    "version": 3
   },
   "file_extension": ".py",
   "mimetype": "text/x-python",
   "name": "python",
   "nbconvert_exporter": "python",
   "pygments_lexer": "ipython3",
   "version": "3.5.2"
  }
 },
 "nbformat": 4,
 "nbformat_minor": 1
}
